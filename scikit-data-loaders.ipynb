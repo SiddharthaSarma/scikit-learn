{
  "nbformat": 4,
  "nbformat_minor": 0,
  "metadata": {
    "colab": {
      "name": "scikit-data-loaders.ipynb",
      "version": "0.3.2",
      "provenance": [],
      "collapsed_sections": []
    },
    "kernelspec": {
      "name": "python3",
      "display_name": "Python 3"
    }
  },
  "cells": [
    {
      "metadata": {
        "id": "u7ipV373n4RW",
        "colab_type": "text"
      },
      "cell_type": "markdown",
      "source": [
        "#  Loading data - dataset loaders"
      ]
    },
    {
      "metadata": {
        "id": "oc58DFpRzUFv",
        "colab_type": "code",
        "colab": {}
      },
      "cell_type": "code",
      "source": [
        "from sklearn.datasets import load_iris\n",
        "\n",
        "\n",
        "iris_dataset = load_iris()\n",
        "print(iris_dataset[1])"
      ],
      "execution_count": 0,
      "outputs": []
    }
  ]
}